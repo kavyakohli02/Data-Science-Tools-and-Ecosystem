{
  "metadata": {
    "kernelspec": {
      "name": "python",
      "display_name": "Python (Pyodide)",
      "language": "python"
    },
    "language_info": {
      "codemirror_mode": {
        "name": "python",
        "version": 3
      },
      "file_extension": ".py",
      "mimetype": "text/x-python",
      "name": "python",
      "nbconvert_exporter": "python",
      "pygments_lexer": "ipython3",
      "version": "3.8"
    }
  },
  "nbformat_minor": 4,
  "nbformat": 4,
  "cells": [
    {
      "cell_type": "markdown",
      "source": "<h1> Data Science Tools and Ecosystem </h1> ",
      "metadata": {}
    },
    {
      "cell_type": "markdown",
      "source": "<h5>In this notebook, Data Science Tools and Ecosystem are summarized.<h5>",
      "metadata": {}
    },
    {
      "cell_type": "markdown",
      "source": "<p>Some of the popular languages that Data Scientists use are:<p>\n<ol>\n  <li>Python</li>\n  <li>R</li>\n  <li>Swift</li>\n  <li>Go</li>\n</ol>",
      "metadata": {}
    },
    {
      "cell_type": "markdown",
      "source": "<p>Some of the commonly used libraries used by Data Scientists include:<p>\n<ol>\n  <li>Seaborn</li>\n  <li>Pandas</li>\n  <li>Matplotlib</li>\n  <li>NumPy</li>\n</ol>",
      "metadata": {}
    },
    {
      "cell_type": "markdown",
      "source": "<table>\n  <tr>\n    <th>Data Science Tools</th>\n  </tr>\n  <tr>\n    <td>JupyterLab</td>\n  </tr>\n  <tr>\n    <td>RStudio</td>\n  </tr>\n  <tr>\n    <td>VS Code</td>\n  </tr>\n</table>",
      "metadata": {}
    },
    {
      "cell_type": "markdown",
      "source": "<h3>Below are a few examples of evaluating arithmetic expressions in Python</h3>",
      "metadata": {}
    },
    {
      "cell_type": "code",
      "source": "#This a simple arithmetic expression to mutiply then add integers\n(3*4)+5",
      "metadata": {
        "trusted": true
      },
      "outputs": [
        {
          "execution_count": 11,
          "output_type": "execute_result",
          "data": {
            "text/plain": "17"
          },
          "metadata": {}
        }
      ],
      "execution_count": 11
    },
    {
      "cell_type": "code",
      "source": "#This will convert 200 minutes to hours by diving by 60\n\n(200/60)",
      "metadata": {
        "trusted": true
      },
      "outputs": [
        {
          "execution_count": 12,
          "output_type": "execute_result",
          "data": {
            "text/plain": "3.3333333333333335"
          },
          "metadata": {}
        }
      ],
      "execution_count": 12
    },
    {
      "cell_type": "markdown",
      "source": "<p><b>Objectives: </b><p>\n\n<ul class='notbold'>\n  <li>Data Science Tools</li>\n  <li>Libraries used by Data Scientists</li>\n  <li>Languages that Data Scientists use</li>\n  <li>Arithmetic expression</li>\n</ul> ",
      "metadata": {}
    },
    {
      "cell_type": "markdown",
      "source": "<h2>Author</h2>\n<p>Kavya Kohli<p>",
      "metadata": {}
    },
    {
      "cell_type": "code",
      "source": "",
      "metadata": {
        "trusted": true
      },
      "outputs": [],
      "execution_count": null
    }
  ]
}